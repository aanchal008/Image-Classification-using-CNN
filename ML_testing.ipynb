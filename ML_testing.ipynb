{
  "nbformat": 4,
  "nbformat_minor": 0,
  "metadata": {
    "colab": {
      "name": ".ML_Question_1_testing.ipynb",
      "provenance": []
    },
    "kernelspec": {
      "name": "python3",
      "display_name": "Python 3"
    },
    "language_info": {
      "name": "python"
    }
  },
  "cells": [
    {
      "cell_type": "code",
      "metadata": {
        "id": "U1FuBAX1cbmt"
      },
      "source": [
        "#Loading the required libraries\n",
        "import numpy as np\n",
        "import pandas as pd\n",
        "import matplotlib.pyplot as plt\n",
        "\n",
        "import torch\n",
        "import torch.nn as nn\n",
        "from torch.autograd import Variable\n",
        "\n",
        "import torchvision\n",
        "import torchvision.transforms as transforms\n",
        "from torch.utils.data import Dataset, DataLoader\n",
        "from sklearn.metrics import confusion_matrix"
      ],
      "execution_count": 24,
      "outputs": []
    },
    {
      "cell_type": "code",
      "metadata": {
        "id": "VFcjeqRdevcE"
      },
      "source": [
        "testing_set = torchvision.datasets.FashionMNIST(\"./data\", download=True, train=False, transform=\n",
        "                                               transforms.Compose([transforms.ToTensor()]))"
      ],
      "execution_count": 25,
      "outputs": []
    },
    {
      "cell_type": "code",
      "metadata": {
        "id": "cJSprsdve-6q"
      },
      "source": [
        "test_loader = torch.utils.data.DataLoader(testing_set, batch_size=100)"
      ],
      "execution_count": 26,
      "outputs": []
    },
    {
      "cell_type": "code",
      "metadata": {
        "id": "TUxkCbvAfEfg"
      },
      "source": [
        "### Creating the model and it isq named as FashionMNIST\n",
        "### It contains the layers and forward function implementation\n",
        "class FashionMNIST(nn.Module):\n",
        "\n",
        "  def __init__(self):\n",
        "    super(FashionMNIST, self).__init__()\n",
        "\n",
        "    self.layer1 = nn.Sequential(\n",
        "        nn.Conv2d(in_channels=1, out_channels=32, kernel_size=3, padding=1),\n",
        "            nn.BatchNorm2d(32),\n",
        "            nn.ReLU(),\n",
        "            nn.MaxPool2d(kernel_size=2, stride=2)\n",
        "    )\n",
        "\n",
        "    self.layer2 = nn.Sequential(\n",
        "        nn.Conv2d(in_channels=32, out_channels=64, kernel_size=3),\n",
        "            nn.BatchNorm2d(64),\n",
        "            nn.ReLU(),\n",
        "            nn.MaxPool2d(2)\n",
        "    )\n",
        "\n",
        "    self.fc1 = nn.Linear(in_features=64*6*6, out_features=600)\n",
        "    self.fc2 = nn.Linear(in_features=600, out_features=120)\n",
        "    self.fc3 = nn.Linear(in_features=120, out_features=10)\n",
        "\n",
        "  def forward(self, x):\n",
        "    out = self.layer1(x)\n",
        "    out = self.layer2(out)\n",
        "    out = out.view(out.size(0), -1)\n",
        "    out = self.fc1(out)\n",
        "    out = self.fc2(out)\n",
        "    out = self.fc3(out)\n",
        "        \n",
        "    return out"
      ],
      "execution_count": 27,
      "outputs": []
    },
    {
      "cell_type": "code",
      "metadata": {
        "colab": {
          "base_uri": "https://localhost:8080/"
        },
        "id": "V4SYcBqWekJE",
        "outputId": "d8b1ab35-71d1-4ccf-db2c-7899bbf5de9a"
      },
      "source": [
        "import glob\n",
        "from google.colab import drive\n",
        "drive.mount('/google_drive', force_remount = True)\n",
        "\n",
        "\n",
        "#### calling the saved model using variable Z\n",
        "Z = FashionMNIST()\n",
        "Z.load_state_dict(torch.load(\"/google_drive/MyDrive/cnnmodel\"))"
      ],
      "execution_count": 28,
      "outputs": [
        {
          "output_type": "stream",
          "text": [
            "Mounted at /google_drive\n"
          ],
          "name": "stdout"
        },
        {
          "output_type": "execute_result",
          "data": {
            "text/plain": [
              "<All keys matched successfully>"
            ]
          },
          "metadata": {
            "tags": []
          },
          "execution_count": 28
        }
      ]
    },
    {
      "cell_type": "code",
      "metadata": {
        "colab": {
          "base_uri": "https://localhost:8080/"
        },
        "id": "xdszMkP2ib7h",
        "outputId": "d6427fd8-ec5e-4e9c-f60b-0763343b2c60"
      },
      "source": [
        "##### Testing on the test_loader data\n",
        "##### Accuraccy is calculated\n",
        "batch_size = 100\n",
        "label_list = []\n",
        "accuracy_list = []\n",
        "predictions_list = []\n",
        "correct = 0\n",
        "\n",
        "for batch_idx, (x, labels) in enumerate(test_loader):\n",
        "\n",
        "    label_list.append(labels)\n",
        "    x = x.view(batch_size, 1,28,28)\n",
        "    #testing on model\n",
        "    outputs = Z(x)\n",
        "    predictions = torch.max(outputs, 1)[1]\n",
        "    predictions_list.append(predictions)\n",
        "    correct += (predictions == labels).sum()\n",
        "            \n",
        "    \n",
        "#accuraccy          \n",
        "accuracy = correct * 100 / len(testing_set)\n",
        "accuracy_list.append(accuracy)\n",
        "\n",
        "#### Question 1) part b) Classification accuracy:\n",
        "print(\"Accuraccy is:\", accuracy)"
      ],
      "execution_count": 29,
      "outputs": [
        {
          "output_type": "stream",
          "text": [
            "Accuraccy is: tensor(90.3700)\n"
          ],
          "name": "stdout"
        }
      ]
    },
    {
      "cell_type": "code",
      "metadata": {
        "id": "plBHb8uijBor"
      },
      "source": [
        "from itertools import chain \n",
        "\n",
        "predictions_new = [predictions_list[i].tolist() for i in range(len(predictions_list))]\n",
        "labels_new = [label_list[i].tolist() for i in range(len(label_list))]\n",
        "predictions_new = list(chain.from_iterable(predictions_new))\n",
        "labels_new = list(chain.from_iterable(labels_new))"
      ],
      "execution_count": 30,
      "outputs": []
    },
    {
      "cell_type": "code",
      "metadata": {
        "id": "astTLn_FndIs"
      },
      "source": [
        "#predictions done for images and savin them to file cnn.txt\n",
        "file = open(\"/google_drive/MyDrive/cnn.txt\", 'w')\n",
        "file.writelines([\"%s\\n\" % item  for item in predictions_new])\n",
        "file.close()\n"
      ],
      "execution_count": 41,
      "outputs": []
    },
    {
      "cell_type": "code",
      "metadata": {
        "colab": {
          "base_uri": "https://localhost:8080/"
        },
        "id": "5SjmcO1CjIrz",
        "outputId": "b2f49ab8-36dd-46bb-c780-174d814fe258"
      },
      "source": [
        "#### Question 1) part c) Confusion matrix\\\n",
        "\n",
        "import sklearn.metrics as metrics\n",
        "confusion_matrix(labels_new, predictions_new)"
      ],
      "execution_count": 31,
      "outputs": [
        {
          "output_type": "execute_result",
          "data": {
            "text/plain": [
              "array([[849,   0,  19,  15,   4,   1, 103,   0,   9,   0],\n",
              "       [  1, 990,   1,   5,   0,   0,   2,   0,   1,   0],\n",
              "       [ 15,   1, 889,   8,  35,   0,  50,   0,   2,   0],\n",
              "       [ 19,  21,  16, 874,  27,   0,  41,   0,   2,   0],\n",
              "       [  3,   4,  71,  21, 835,   1,  65,   0,   0,   0],\n",
              "       [  0,   0,   0,   0,   0, 993,   0,   6,   0,   1],\n",
              "       [107,   3,  67,  23,  62,   0, 728,   0,  10,   0],\n",
              "       [  0,   0,   0,   0,   0,  22,   0, 973,   0,   5],\n",
              "       [  2,   3,   4,   1,   3,   1,   4,   1, 981,   0],\n",
              "       [  1,   0,   0,   0,   0,  16,   0,  58,   0, 925]])"
            ]
          },
          "metadata": {
            "tags": []
          },
          "execution_count": 31
        }
      ]
    }
  ]
}