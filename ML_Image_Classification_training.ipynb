{
  "nbformat": 4,
  "nbformat_minor": 0,
  "metadata": {
    "colab": {
      "name": "ML_Question1.ipynb",
      "provenance": []
    },
    "kernelspec": {
      "name": "python3",
      "display_name": "Python 3"
    },
    "language_info": {
      "name": "python"
    }
  },
  "cells": [
    {
      "cell_type": "code",
      "metadata": {
        "id": "Ukh0xE5dmYRS"
      },
      "source": [
        "#Loading the required libraries\n",
        "import numpy as np\n",
        "import pandas as pd\n",
        "import matplotlib.pyplot as plt\n",
        "\n",
        "import torch\n",
        "import torch.nn as nn\n",
        "from torch.autograd import Variable\n",
        "\n",
        "import torchvision\n",
        "import torchvision.transforms as transforms\n",
        "from torch.utils.data import Dataset, DataLoader\n",
        "from sklearn.metrics import confusion_matrix"
      ],
      "execution_count": 38,
      "outputs": []
    },
    {
      "cell_type": "code",
      "metadata": {
        "id": "d0jTF0_ZIzu6"
      },
      "source": [
        "### Loading the training and testing dataset \n",
        "training_set = torchvision.datasets.FashionMNIST(\"./data\", download=True, transform=\n",
        "                                                transforms.Compose([transforms.ToTensor()]))"
      ],
      "execution_count": 39,
      "outputs": []
    },
    {
      "cell_type": "code",
      "metadata": {
        "id": "cOkZ1RlIRhuf"
      },
      "source": [
        "#### Dividin into training and validation set\n",
        "train_set, validation_set = torch.utils.data.random_split(training_set, [50000, 10000])"
      ],
      "execution_count": 40,
      "outputs": []
    },
    {
      "cell_type": "code",
      "metadata": {
        "colab": {
          "base_uri": "https://localhost:8080/"
        },
        "id": "weiuSJ19R-4a",
        "outputId": "f20e2cf6-c894-4ae0-fdd4-1092cf2774bd"
      },
      "source": [
        "print(len(train_set))"
      ],
      "execution_count": 41,
      "outputs": [
        {
          "output_type": "stream",
          "text": [
            "50000\n"
          ],
          "name": "stdout"
        }
      ]
    },
    {
      "cell_type": "code",
      "metadata": {
        "colab": {
          "base_uri": "https://localhost:8080/"
        },
        "id": "vJ79jOAoSF4p",
        "outputId": "85d22b0c-ea21-4b6f-ad62-16b714c2e090"
      },
      "source": [
        "print(len(validation_set))"
      ],
      "execution_count": 42,
      "outputs": [
        {
          "output_type": "stream",
          "text": [
            "10000\n"
          ],
          "name": "stdout"
        }
      ]
    },
    {
      "cell_type": "code",
      "metadata": {
        "id": "3ForxQGMJhkO"
      },
      "source": [
        "train_loader = torch.utils.data.DataLoader(train_set, batch_size=100)\n",
        "vald_loader = torch.utils.data.DataLoader(validation_set, batch_size=100)"
      ],
      "execution_count": 43,
      "outputs": []
    },
    {
      "cell_type": "code",
      "metadata": {
        "id": "149V_luNKzMA"
      },
      "source": [
        "### Creating the model and it isq named as FashionMNIST\n",
        "### It contains the layers and forward function implementation\n",
        "class FashionMNIST(nn.Module):\n",
        "\n",
        "  def __init__(self):\n",
        "    super(FashionMNIST, self).__init__()\n",
        "\n",
        "    self.layer1 = nn.Sequential(\n",
        "        nn.Conv2d(in_channels=1, out_channels=32, kernel_size=3, padding=1),\n",
        "            nn.BatchNorm2d(32),\n",
        "            nn.ReLU(),\n",
        "            nn.MaxPool2d(kernel_size=2, stride=2)\n",
        "    )\n",
        "\n",
        "    self.layer2 = nn.Sequential(\n",
        "        nn.Conv2d(in_channels=32, out_channels=64, kernel_size=3),\n",
        "            nn.BatchNorm2d(64),\n",
        "            nn.ReLU(),\n",
        "            nn.MaxPool2d(2)\n",
        "    )\n",
        "\n",
        "    self.fc1 = nn.Linear(in_features=64*6*6, out_features=600)\n",
        "    self.fc2 = nn.Linear(in_features=600, out_features=120)\n",
        "    self.fc3 = nn.Linear(in_features=120, out_features=10)\n",
        "\n",
        "  def forward(self, x):\n",
        "    out = self.layer1(x)\n",
        "    out = self.layer2(out)\n",
        "    out = out.view(out.size(0), -1)\n",
        "    out = self.fc1(out)\n",
        "    out = self.fc2(out)\n",
        "    out = self.fc3(out)\n",
        "        \n",
        "    return out\n"
      ],
      "execution_count": 44,
      "outputs": []
    },
    {
      "cell_type": "code",
      "metadata": {
        "colab": {
          "base_uri": "https://localhost:8080/"
        },
        "id": "mEyi5CYFRf3T",
        "outputId": "6c4eaade-d238-47e9-a1fc-e7fc4e4b91b5"
      },
      "source": [
        "### Model calling\n",
        "### Adam Optimizier is be2ing used\n",
        "\n",
        "model = FashionMNIST()\n",
        "learning_rate = 0.001\n",
        "optimizer = torch.optim.Adam(model.parameters(), lr=learning_rate)\n",
        "print(model)"
      ],
      "execution_count": 45,
      "outputs": [
        {
          "output_type": "stream",
          "text": [
            "FashionMNIST(\n",
            "  (layer1): Sequential(\n",
            "    (0): Conv2d(1, 32, kernel_size=(3, 3), stride=(1, 1), padding=(1, 1))\n",
            "    (1): BatchNorm2d(32, eps=1e-05, momentum=0.1, affine=True, track_running_stats=True)\n",
            "    (2): ReLU()\n",
            "    (3): MaxPool2d(kernel_size=2, stride=2, padding=0, dilation=1, ceil_mode=False)\n",
            "  )\n",
            "  (layer2): Sequential(\n",
            "    (0): Conv2d(32, 64, kernel_size=(3, 3), stride=(1, 1))\n",
            "    (1): BatchNorm2d(64, eps=1e-05, momentum=0.1, affine=True, track_running_stats=True)\n",
            "    (2): ReLU()\n",
            "    (3): MaxPool2d(kernel_size=2, stride=2, padding=0, dilation=1, ceil_mode=False)\n",
            "  )\n",
            "  (fc1): Linear(in_features=2304, out_features=600, bias=True)\n",
            "  (fc2): Linear(in_features=600, out_features=120, bias=True)\n",
            "  (fc3): Linear(in_features=120, out_features=10, bias=True)\n",
            ")\n"
          ],
          "name": "stdout"
        }
      ]
    },
    {
      "cell_type": "code",
      "metadata": {
        "colab": {
          "base_uri": "https://localhost:8080/"
        },
        "id": "vTigE23GDy2-",
        "outputId": "2962abc8-33d1-480a-e304-b51b381dccae"
      },
      "source": [
        "#### Starting the training of the model\n",
        "#### batch size and epochs are defined \n",
        "#### loss is appended in average_loss list\n",
        "\n",
        "batch_size = 100\n",
        "x_dim  = 784\n",
        "epochs = 5\n",
        "\n",
        "print(\"Start training ......................\")\n",
        "model.train()\n",
        "average_loss = []\n",
        "\n",
        "for epoch in range(epochs):\n",
        "    #initially overall loss is zero\n",
        "    overall_loss = 0\n",
        "    for batch_idx, (x, labels) in enumerate(train_loader):\n",
        "        x = x.view(batch_size, 1,28,28)\n",
        "        optimizer.zero_grad()\n",
        "        #prediction on the model\n",
        "        label_pred = model(Variable(x))\n",
        "        loss = nn.CrossEntropyLoss()(label_pred, Variable(labels))\n",
        "        overall_loss += loss.item()\n",
        "        loss.backward()\n",
        "        optimizer.step()\n",
        "        \n",
        "    #average loss is calculated    \n",
        "    e = (overall_loss / (batch_idx*batch_size))\n",
        "    print(\"\\tEpoch\", epoch + 1, \"completed!\", \"\\tAverage Loss here: \", e)\n",
        "    average_loss.append(e)\n",
        "    \n",
        "print(\"Finish!!\")"
      ],
      "execution_count": 46,
      "outputs": [
        {
          "output_type": "stream",
          "text": [
            "Start training ......................\n",
            "\tEpoch 1 completed! \tAverage Loss here:  0.004475009577248044\n",
            "\tEpoch 2 completed! \tAverage Loss here:  0.0030470254615636056\n",
            "\tEpoch 3 completed! \tAverage Loss here:  0.0026228474879372334\n",
            "\tEpoch 4 completed! \tAverage Loss here:  0.002371041752950462\n",
            "\tEpoch 5 completed! \tAverage Loss here:  0.0021753025110176427\n",
            "Finish!!\n"
          ],
          "name": "stdout"
        }
      ]
    },
    {
      "cell_type": "code",
      "metadata": {
        "colab": {
          "base_uri": "https://localhost:8080/",
          "height": 295
        },
        "id": "vJo3YwrXTL_W",
        "outputId": "b216dfe4-5813-4a48-f0ff-159fbb614020"
      },
      "source": [
        "#### Question 1) part a) Graph of training loss vs number of epochs while training\n",
        "plt.title(\"Epoch vs Average Loss\")\n",
        "plt.plot(list(range(epochs)), average_loss)\n",
        "plt.xlabel(\"Epoch\")\n",
        "plt.ylabel(\"Average Loss\")\n",
        "plt.show()"
      ],
      "execution_count": 47,
      "outputs": [
        {
          "output_type": "display_data",
          "data": {
            "image/png": "[encoded data removed]",
            "text/plain": [
              "<Figure size 432x288 with 1 Axes>"
            ]
          },
          "metadata": {
            "tags": [],
            "needs_background": "light"
          }
        }
      ]
    },
    {
      "cell_type": "code",
      "metadata": {
        "id": "tdmOOmEHceTK",
        "colab": {
          "base_uri": "https://localhost:8080/"
        },
        "outputId": "232313a9-c633-4035-ac04-4effa11ed019"
      },
      "source": [
        "import glob\n",
        "from google.colab import drive\n",
        "drive.mount('/google_drive', force_remount = True)\n",
        "\n",
        "torch.save(model.state_dict(),\"/google_drive/MyDrive/cnnmodel\")"
      ],
      "execution_count": 48,
      "outputs": [
        {
          "output_type": "stream",
          "text": [
            "Mounted at /google_drive\n"
          ],
          "name": "stdout"
        }
      ]
    },
    {
      "cell_type": "code",
      "metadata": {
        "colab": {
          "base_uri": "https://localhost:8080/"
        },
        "id": "hvP_wj_rbq_5",
        "outputId": "9cd572e2-c6da-4f4c-f8ff-361939b16501"
      },
      "source": [
        "#### Tuning hyperparameter on validation set to check for better accuraccy\n",
        "\n",
        "c1 = 16\n",
        "c2 = 32\n",
        "for i in range(0, 3):\n",
        "  class FashionMNIST(nn.Module):\n",
        "    def __init__(self):\n",
        "      super(FashionMNIST, self).__init__()\n",
        "\n",
        "      self.layer1 = nn.Sequential(\n",
        "          nn.Conv2d(in_channels=1, out_channels=c1, kernel_size=3, padding=1),\n",
        "              nn.BatchNorm2d(c1),\n",
        "              nn.ReLU(),\n",
        "              nn.MaxPool2d(kernel_size=2, stride=2)\n",
        "      )\n",
        "\n",
        "      self.layer2 = nn.Sequential(\n",
        "          nn.Conv2d(in_channels=c1, out_channels=c2, kernel_size=3),\n",
        "              nn.BatchNorm2d(c2),\n",
        "              nn.ReLU(),\n",
        "              nn.MaxPool2d(2)\n",
        "      )\n",
        "\n",
        "      self.fc1 = nn.Linear(in_features=c2*6*6, out_features=600)\n",
        "      self.fc2 = nn.Linear(in_features=600, out_features=120)\n",
        "      self.fc3 = nn.Linear(in_features=120, out_features=10)\n",
        "\n",
        "    def forward(self, x):\n",
        "      out = self.layer1(x)\n",
        "      out = self.layer2(out)\n",
        "      out = out.view(out.size(0), -1)\n",
        "      out = self.fc1(out)\n",
        "      out = self.fc2(out)\n",
        "      out = self.fc3(out)\n",
        "          \n",
        "      return out\n",
        "\n",
        "  model = FashionMNIST()\n",
        "  learning_rate = 0.001\n",
        "  optimizer = torch.optim.Adam(model.parameters(), lr=learning_rate)\n",
        "\n",
        "  batch_size = 100\n",
        "  epochs = 5\n",
        "\n",
        "  print(\"Start training ...\")\n",
        "  model.train()\n",
        "  average_loss = []\n",
        "\n",
        "  for epoch in range(epochs):\n",
        "      overall_loss = 0\n",
        "      for batch_idx, (x, labels) in enumerate(train_loader):\n",
        "          x = x.view(batch_size, 1,28,28)\n",
        "          optimizer.zero_grad()\n",
        "          label_pred = model(Variable(x))\n",
        "          loss = nn.CrossEntropyLoss()(label_pred, Variable(labels))\n",
        "          overall_loss += loss.item()\n",
        "          loss.backward()\n",
        "          optimizer.step()\n",
        "          \n",
        "      e = (overall_loss / (batch_idx*batch_size))\n",
        "      print(\"\\tEpoch\", epoch + 1, \"complete!\", \"\\tAverage Loss: \", e)\n",
        "      average_loss.append(e)\n",
        "      \n",
        "  print(\"Finish!!\")\n",
        "\n",
        "  label_list = []\n",
        "  accuracy_list = []\n",
        "  predictions_list = []\n",
        "  correct = 0\n",
        "  total = []\n",
        "  for batch_idx, (x, labels) in enumerate(vald_loader):\n",
        "\n",
        "      label_list.append(labels)\n",
        "      x = x.view(batch_size, 1,28,28)\n",
        "      outputs = model(x)\n",
        "      predictions = torch.max(outputs, 1)[1]\n",
        "      predictions_list.append(predictions)\n",
        "      correct += (predictions == labels).sum()\n",
        "              \n",
        "      \n",
        "              \n",
        "  accuracy = correct * 100 / len(validation_set)\n",
        "  accuracy_list.append(accuracy)\n",
        "  print(\"Accuraccy is:\", accuracy)\n",
        "  c1 = c1*2\n",
        "  c2 = c2*2"
      ],
      "execution_count": 49,
      "outputs": [
        {
          "output_type": "stream",
          "text": [
            "Start training ...\n",
            "\tEpoch 1 complete! \tAverage Loss:  0.004535982426636683\n",
            "\tEpoch 2 complete! \tAverage Loss:  0.0031862241468711464\n",
            "\tEpoch 3 complete! \tAverage Loss:  0.002810139070472163\n",
            "\tEpoch 4 complete! \tAverage Loss:  0.0025808250147080374\n",
            "\tEpoch 5 complete! \tAverage Loss:  0.0024027369156449973\n",
            "Finish!!\n",
            "Accuraccy is: tensor(89.4800)\n",
            "Start training ...\n",
            "\tEpoch 1 complete! \tAverage Loss:  0.0045393730228195685\n",
            "\tEpoch 2 complete! \tAverage Loss:  0.0030164442084475843\n",
            "\tEpoch 3 complete! \tAverage Loss:  0.0025896169494591162\n",
            "\tEpoch 4 complete! \tAverage Loss:  0.0023512869876228973\n",
            "\tEpoch 5 complete! \tAverage Loss:  0.002150353411649296\n",
            "Finish!!\n",
            "Accuraccy is: tensor(90.1900)\n",
            "Start training ...\n",
            "\tEpoch 1 complete! \tAverage Loss:  0.004817849378846212\n",
            "\tEpoch 2 complete! \tAverage Loss:  0.003066761092038336\n",
            "\tEpoch 3 complete! \tAverage Loss:  0.002613719563057762\n",
            "\tEpoch 4 complete! \tAverage Loss:  0.0023444024576452786\n",
            "\tEpoch 5 complete! \tAverage Loss:  0.0021442037410212902\n",
            "Finish!!\n",
            "Accuraccy is: tensor(90.8400)\n"
          ],
          "name": "stdout"
        }
      ]
    }
  ]
}